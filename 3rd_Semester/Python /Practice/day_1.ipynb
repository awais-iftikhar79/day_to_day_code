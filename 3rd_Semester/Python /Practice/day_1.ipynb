{
 "cells": [
  {
   "cell_type": "code",
   "execution_count": 4,
   "id": "b40121b2",
   "metadata": {},
   "outputs": [
    {
     "name": "stdout",
     "output_type": "stream",
     "text": [
      "Awais  likes Blue\n"
     ]
    }
   ],
   "source": [
    "#1st task\n",
    "name=input(\"Enter your name \" )\n",
    "colour=input(\"Enter favourite colour \")\n",
    "print(name +\" likes \"+ colour)"
   ]
  },
  {
   "cell_type": "code",
   "execution_count": 6,
   "id": "e2cc66ac",
   "metadata": {},
   "outputs": [
    {
     "name": "stdout",
     "output_type": "stream",
     "text": [
      "1  ponds =  0.4535\n"
     ]
    }
   ],
   "source": [
    "#task 2\n",
    "weight=int(input(\"Enter weight in pounds : \"))\n",
    "kilo_grams=weight*0.4535\n",
    "print(weight,' ponds = ',kilo_grams)"
   ]
  },
  {
   "cell_type": "markdown",
   "id": "540e2b02",
   "metadata": {},
   "source": [
    "Strings"
   ]
  },
  {
   "cell_type": "code",
   "execution_count": 12,
   "id": "af680dcc",
   "metadata": {},
   "outputs": [
    {
     "name": "stdout",
     "output_type": "stream",
     "text": [
      "wais Iftikha\n",
      "Awais\n",
      "Awais Iftikha\n",
      "rahkitfI siawA\n"
     ]
    }
   ],
   "source": [
    "name='Awais Iftikhar'\n",
    "print(name[1:-1])\n",
    "print(name[0:5])\n",
    "print(name[:-1])\n",
    "print(name[::-1])"
   ]
  },
  {
   "cell_type": "code",
   "execution_count": 13,
   "id": "456fd222",
   "metadata": {},
   "outputs": [
    {
     "name": "stdout",
     "output_type": "stream",
     "text": [
      "Awais [Iftikhar] is a coder\n"
     ]
    }
   ],
   "source": [
    "#formated string\n",
    "first='Awais'\n",
    "last='Iftikhar'\n",
    "print(f'{first} [{last}] is a coder')"
   ]
  },
  {
   "cell_type": "code",
   "execution_count": null,
   "id": "42dcc47c",
   "metadata": {},
   "outputs": [
    {
     "name": "stdout",
     "output_type": "stream",
     "text": [
      "i am learning python\n",
      "I AM LEARNING PYTHON\n",
      "I Am Learning Python\n",
      "5\n",
      "I am watching Python\n",
      "True\n"
     ]
    }
   ],
   "source": [
    "cousre='I am learning Python'\n",
    "print(cousre.lower())\n",
    "print(cousre.upper())\n",
    "print(cousre.title())\n",
    "print(cousre.find('l'))#returns index\n",
    "print(cousre.replace('learning','watching'))\n",
    "print('am' in cousre) # return boolian form\n",
    "\n"
   ]
  },
  {
   "cell_type": "markdown",
   "id": "64b2cdfe",
   "metadata": {},
   "source": [
    "If else"
   ]
  },
  {
   "cell_type": "code",
   "execution_count": 17,
   "id": "514b448f",
   "metadata": {},
   "outputs": [
    {
     "name": "stdout",
     "output_type": "stream",
     "text": [
      "Down Payment is :  10000.0\n"
     ]
    }
   ],
   "source": [
    "good_credit=True\n",
    "down_payment=0\n",
    "if good_credit:\n",
    "    down_payment=100000*0.1\n",
    "    print('Down Payment is : ',down_payment)\n",
    "else:\n",
    "    down_payment=100000*0.2\n",
    "    print('Down Payment is : ',down_payment)"
   ]
  },
  {
   "cell_type": "markdown",
   "id": "b33475be",
   "metadata": {},
   "source": [
    "Logical Operators\n"
   ]
  },
  {
   "cell_type": "code",
   "execution_count": 21,
   "id": "7221ebc6",
   "metadata": {},
   "outputs": [
    {
     "name": "stdout",
     "output_type": "stream",
     "text": [
      "You are eligible for loan\n",
      "You are eligible for loan\n"
     ]
    }
   ],
   "source": [
    "high_income=True;\n",
    "good_credit=True;\n",
    "\n",
    "if high_income and good_credit:\n",
    "    print('You are eligible for loan')\n",
    "\n",
    "if high_income or good_credit:\n",
    "    print('You are eligible for loan')\n",
    "\n",
    "if high_income and not good_credit:\n",
    "    print('You are eligible for loan')"
   ]
  },
  {
   "cell_type": "markdown",
   "id": "71e1e5b3",
   "metadata": {},
   "source": [
    "Comparison Operators"
   ]
  },
  {
   "cell_type": "code",
   "execution_count": null,
   "id": "a302c5a6",
   "metadata": {},
   "outputs": [],
   "source": [
    "Comparison Operators"
   ]
  },
  {
   "cell_type": "code",
   "execution_count": 24,
   "id": "dacdb8e8",
   "metadata": {},
   "outputs": [
    {
     "name": "stdout",
     "output_type": "stream",
     "text": [
      "Name looks Good !\n"
     ]
    }
   ],
   "source": [
    "name=input('Enter your name')\n",
    "\n",
    "if len(name)<3:\n",
    "    print('Name has atleast 3 characters')\n",
    "elif len(name)>50:\n",
    "    print(\"Name not aceed 50 characters\")\n",
    "else:\n",
    "    print('Name looks Good !')"
   ]
  },
  {
   "cell_type": "markdown",
   "id": "a37f6667",
   "metadata": {},
   "source": [
    "Exercise Problem"
   ]
  },
  {
   "cell_type": "code",
   "execution_count": 27,
   "id": "9e84eff4",
   "metadata": {},
   "outputs": [
    {
     "name": "stdout",
     "output_type": "stream",
     "text": [
      "72 kilograms : 160.0 Pounds\n"
     ]
    }
   ],
   "source": [
    "weight=int(input('Enter weight : '))\n",
    "choice=input('(L) Pounds or (K) Kilograms')\n",
    "\n",
    "if choice=='L' or choice=='l':\n",
    "    print(f'{weight} pounds : {weight*0.45} kilograms')\n",
    "elif(choice=='K' or choice=='k'):\n",
    "    print(f'{weight} kilograms : {weight/0.45} Pounds')\n",
    "else:\n",
    "    print('Invalid option')\n",
    "    "
   ]
  },
  {
   "cell_type": "markdown",
   "id": "fb02d231",
   "metadata": {},
   "source": [
    "Guessing Game"
   ]
  },
  {
   "cell_type": "code",
   "execution_count": 29,
   "id": "150504f7",
   "metadata": {},
   "outputs": [
    {
     "name": "stdout",
     "output_type": "stream",
     "text": [
      "You won !\n"
     ]
    }
   ],
   "source": [
    "secrete_number=7\n",
    "guess_count=0\n",
    "guess_limit=3\n",
    "\n",
    "while guess_count < guess_limit:\n",
    "    guess_num=int(input('Guess : '))\n",
    "    guess_count += 1\n",
    "    \n",
    "    if guess_num== secrete_number:\n",
    "        print('You won !')\n",
    "        break\n",
    "else:\n",
    "    print('You Failed')"
   ]
  },
  {
   "cell_type": "markdown",
   "id": "491e77ce",
   "metadata": {},
   "source": [
    "Car Game"
   ]
  },
  {
   "cell_type": "code",
   "execution_count": null,
   "id": "8d7572d7",
   "metadata": {},
   "outputs": [],
   "source": [
    "play=input('Enter P to play Game !')\n",
    "\n",
    "if(play.lower()=='p'):\n",
    "    print('''-------- Instructions----------\n",
    "             start -> to start car  \n",
    "             stop -> to stop car\n",
    "             quite -> to exit game''')\n",
    "else: \n",
    "    print('Invalid Input !')\n",
    "\n",
    "started=False\n",
    "\n",
    "while True: \n",
    "    controler=input('Enter command > ')\n",
    "    if(controler.lower()=='start'):\n",
    "        if started:\n",
    "            print('Car is already started')\n",
    "        else:\n",
    "            started=True\n",
    "            print('Car started ...... Ready to go ')\n",
    "    elif(controler.lower()=='stop'):\n",
    "        if not started :\n",
    "            print('Car is already stopped')\n",
    "        else\n",
    "            started=False\n",
    "            print('Car stopped')\n",
    "    elif(controler.lower()=='quite'):\n",
    "        print(\"Exiting Game ....\")\n",
    "        break\n",
    "    else:\n",
    "        print('I cannot understad your command')\n",
    "    "
   ]
  },
  {
   "cell_type": "markdown",
   "id": "37d2e7ca",
   "metadata": {},
   "source": [
    "For Loop"
   ]
  },
  {
   "cell_type": "code",
   "execution_count": 4,
   "id": "ae60f423",
   "metadata": {},
   "outputs": [
    {
     "name": "stdout",
     "output_type": "stream",
     "text": [
      "x\n",
      "x\n",
      "x\n",
      "x\n",
      "x\n"
     ]
    }
   ],
   "source": [
    "numbers=[5,2,5,2,2]\n",
    "\n",
    "for num in numbers:\n",
    "    for i in range(num):\n",
    "        output=''\n",
    "        output+='x'\n",
    "    print(output)\n",
    "        "
   ]
  }
 ],
 "metadata": {
  "kernelspec": {
   "display_name": ".venv",
   "language": "python",
   "name": "python3"
  },
  "language_info": {
   "codemirror_mode": {
    "name": "ipython",
    "version": 3
   },
   "file_extension": ".py",
   "mimetype": "text/x-python",
   "name": "python",
   "nbconvert_exporter": "python",
   "pygments_lexer": "ipython3",
   "version": "3.12.3"
  }
 },
 "nbformat": 4,
 "nbformat_minor": 5
}
