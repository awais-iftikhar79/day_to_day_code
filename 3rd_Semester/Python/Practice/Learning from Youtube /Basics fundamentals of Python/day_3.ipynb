{
 "cells": [
  {
   "cell_type": "markdown",
   "id": "3cf0ed51",
   "metadata": {},
   "source": [
    "Classes\n"
   ]
  },
  {
   "cell_type": "markdown",
   "id": "816d9a87",
   "metadata": {},
   "source": [
    "Constructors\n"
   ]
  },
  {
   "cell_type": "code",
   "execution_count": 1,
   "id": "0d56328e",
   "metadata": {},
   "outputs": [
    {
     "name": "stdout",
     "output_type": "stream",
     "text": [
      "My name is Awais and I want to talk in Urdu\n"
     ]
    }
   ],
   "source": [
    "class Person:\n",
    "    def __init__(self,name,talk):\n",
    "        self.name=name\n",
    "        self.talk=talk\n",
    "    \n",
    "    def display(self):\n",
    "        print(f'My name is {self.name} and I want to talk in {self.talk}')\n",
    "        \n",
    "\n",
    "p1=Person('Awais','Urdu')\n",
    "p1.display()"
   ]
  }
 ],
 "metadata": {
  "kernelspec": {
   "display_name": "Python 3",
   "language": "python",
   "name": "python3"
  },
  "language_info": {
   "codemirror_mode": {
    "name": "ipython",
    "version": 3
   },
   "file_extension": ".py",
   "mimetype": "text/x-python",
   "name": "python",
   "nbconvert_exporter": "python",
   "pygments_lexer": "ipython3",
   "version": "3.12.3"
  }
 },
 "nbformat": 4,
 "nbformat_minor": 5
}
