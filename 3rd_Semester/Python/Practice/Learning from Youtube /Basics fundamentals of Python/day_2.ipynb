{
 "cells": [
  {
   "cell_type": "markdown",
   "id": "f16b7534",
   "metadata": {},
   "source": [
    "Lists"
   ]
  },
  {
   "cell_type": "code",
   "execution_count": 6,
   "id": "77c16982",
   "metadata": {},
   "outputs": [
    {
     "name": "stdout",
     "output_type": "stream",
     "text": [
      "Greater number is :  7\n"
     ]
    }
   ],
   "source": [
    "numbers=[1,5,3,7,1,1,3,5]\n",
    "greater=numbers[0]\n",
    "for num in numbers:\n",
    "    if greater < num:\n",
    "        greater=num\n",
    "    \n",
    "print('Greater number is : ',greater)\n"
   ]
  },
  {
   "cell_type": "code",
   "execution_count": 7,
   "id": "8cd91e5c",
   "metadata": {},
   "outputs": [
    {
     "name": "stdout",
     "output_type": "stream",
     "text": [
      "[1, 5, 3, 7, 1, 1, 3, 5]\n",
      "[1, 5, 3, 7, 1, 1, 3, 5, 10]\n",
      "3\n",
      "[1, 5, 3, 7, 1, 1, 3, 5]\n",
      "[1, 1, 1, 3, 3, 5, 5, 7]\n",
      "[7, 5, 5, 3, 3, 1, 1, 1]\n"
     ]
    }
   ],
   "source": [
    "print(numbers)\n",
    "numbers.append(10)\n",
    "print(numbers)\n",
    "print(numbers.index(7))\n",
    "numbers.pop()\n",
    "print(numbers)\n",
    "numbers.sort()\n",
    "print(numbers)\n",
    "numbers.reverse()\n",
    "print(numbers)\n",
    "\n",
    "\n"
   ]
  },
  {
   "cell_type": "code",
   "execution_count": 8,
   "id": "a3f055a6",
   "metadata": {},
   "outputs": [
    {
     "name": "stdout",
     "output_type": "stream",
     "text": [
      "[7, 5, 3, 1]\n"
     ]
    }
   ],
   "source": [
    "# Removes Duplicates\n",
    "uniques=[]\n",
    "\n",
    "for num in numbers:\n",
    "    if num not in uniques:\n",
    "        uniques.append(num)\n",
    "        \n",
    "print(uniques)"
   ]
  },
  {
   "cell_type": "markdown",
   "id": "94c86851",
   "metadata": {},
   "source": [
    "Tuples"
   ]
  },
  {
   "cell_type": "code",
   "execution_count": 9,
   "id": "bf7a6cfc",
   "metadata": {},
   "outputs": [
    {
     "name": "stdout",
     "output_type": "stream",
     "text": [
      "(1, 3, 5)\n"
     ]
    }
   ],
   "source": [
    "coordinates=(1,3,5)\n",
    "print(coordinates)"
   ]
  },
  {
   "cell_type": "code",
   "execution_count": 10,
   "id": "a816167e",
   "metadata": {},
   "outputs": [
    {
     "name": "stdout",
     "output_type": "stream",
     "text": [
      "1 3 5\n"
     ]
    }
   ],
   "source": [
    "# Unpacking Tuple\n",
    "x,y,z=coordinates\n",
    "print(x,y,z)"
   ]
  },
  {
   "cell_type": "markdown",
   "id": "50fd06ed",
   "metadata": {},
   "source": [
    "Dictionaries"
   ]
  },
  {
   "cell_type": "code",
   "execution_count": null,
   "id": "70f7ccad",
   "metadata": {},
   "outputs": [
    {
     "ename": "",
     "evalue": "",
     "output_type": "error",
     "traceback": [
      "\u001b[1;31mRunning cells with '.venv (Python 3.12.3)' requires the ipykernel package.\n",
      "\u001b[1;31mInstall 'ipykernel' into the Python environment. \n",
      "\u001b[1;31mCommand: '\"/home/awais-iftikhar/Desktop/day_to_day_code/3rd_Semester/Python /Practice/.venv/bin/python\" -m pip install ipykernel -U --force-reinstall'"
     ]
    }
   ],
   "source": [
    "#task\n",
    "phone=input('Enter phone number : ' )\n",
    "\n",
    "digits_mapping={\n",
    "    \n",
    "    '0':'Zero',\n",
    "    \"1\":\"One\",\n",
    "    \"2\":\"Two\",\n",
    "    \"3\":\"Three\",\n",
    "    \"4\":\"Four\",\n",
    "    \"5\":\"Five\",\n",
    "    \"6\":\"Six\",\n",
    "    \"7\":\"Seven\",\n",
    "    \"8\":\"Eight\",\n",
    "    \"9\":\"Nine\"\n",
    "}\n",
    "output=''\n",
    "for ch in phone:\n",
    "    output+=digits_mapping.get(ch,'!') +' ' #2nd default when no key is obtained\n",
    "\n",
    "print(output)\n",
    "\n",
    "    "
   ]
  },
  {
   "cell_type": "code",
   "execution_count": 18,
   "id": "c5d4029c",
   "metadata": {},
   "outputs": [
    {
     "name": "stdout",
     "output_type": "stream",
     "text": [
      "Good Morning 😀 \n"
     ]
    }
   ],
   "source": [
    "message=input('> ')\n",
    "words=message.split(' ')\n",
    "\n",
    "emoji={\n",
    "    \":)\":\"😀\",\n",
    "    \":(\":\"😞\",\n",
    "}\n",
    "\n",
    "output=\"\"\n",
    "\n",
    "for word in words:\n",
    "    output+=emoji.get(word,word)+\" \"\n",
    "\n",
    "print(output)"
   ]
  },
  {
   "cell_type": "markdown",
   "id": "56521980",
   "metadata": {},
   "source": [
    "Functions"
   ]
  },
  {
   "cell_type": "code",
   "execution_count": null,
   "id": "4ec1ef99",
   "metadata": {},
   "outputs": [
    {
     "name": "stdout",
     "output_type": "stream",
     "text": [
      "Hi , John Smith\n",
      "Hi , Awais Iftikhar\n"
     ]
    }
   ],
   "source": [
    "def greet_user(f_name,l_name):\n",
    "    print(f'Hi , {f_name} {l_name }')\n",
    "    \n",
    "greet_user('John','Smith') #postional arguments\n",
    "greet_user('Awais',l_name='Iftikhar') # keyword argument always followed by positional one\n",
    "greet_user(l_name='Iftikhar','Awais')# cause error"
   ]
  },
  {
   "cell_type": "code",
   "execution_count": 27,
   "id": "3bf34ae0",
   "metadata": {},
   "outputs": [
    {
     "name": "stdout",
     "output_type": "stream",
     "text": [
      "i am sad 😞 \n"
     ]
    }
   ],
   "source": [
    "def emoji_converter(mesage):\n",
    "    words=message.split(' ')\n",
    "\n",
    "    emoji={\n",
    "        \":)\":\"😀\",\n",
    "        \":(\":\"😞\",\n",
    "    }\n",
    "\n",
    "    output=\"\"\n",
    "\n",
    "    for word in words:\n",
    "        output+=emoji.get(word,word)+\" \"\n",
    "    return output\n",
    "\n",
    "\n",
    "message=input('> ')\n",
    "result=emoji_converter(message)\n",
    "print(result)"
   ]
  }
 ],
 "metadata": {
  "kernelspec": {
   "display_name": ".venv",
   "language": "python",
   "name": "python3"
  },
  "language_info": {
   "codemirror_mode": {
    "name": "ipython",
    "version": 3
   },
   "file_extension": ".py",
   "mimetype": "text/x-python",
   "name": "python",
   "nbconvert_exporter": "python",
   "pygments_lexer": "ipython3",
   "version": "3.12.3"
  }
 },
 "nbformat": 4,
 "nbformat_minor": 5
}
