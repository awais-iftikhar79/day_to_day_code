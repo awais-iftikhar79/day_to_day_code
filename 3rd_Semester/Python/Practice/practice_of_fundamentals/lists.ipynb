{
 "cells": [
  {
   "cell_type": "markdown",
   "id": "f42248a2",
   "metadata": {
    "vscode": {
     "languageId": "raw"
    }
   },
   "source": [
    "Finding Sum"
   ]
  },
  {
   "cell_type": "code",
   "execution_count": 1,
   "id": "653326e5",
   "metadata": {},
   "outputs": [
    {
     "name": "stdout",
     "output_type": "stream",
     "text": [
      "Sum of all elements is :  81\n"
     ]
    }
   ],
   "source": [
    "my_list=[1,3,5,7,9,11,13,15,17]\n",
    "\n",
    "sum=0\n",
    "for num in my_list:\n",
    "    sum+=num\n",
    "    \n",
    "print('Sum of all elements is : ',sum)"
   ]
  },
  {
   "cell_type": "markdown",
   "id": "0e095e13",
   "metadata": {},
   "source": [
    "Maximum and Minimum"
   ]
  },
  {
   "cell_type": "code",
   "execution_count": 4,
   "id": "1c528578",
   "metadata": {},
   "outputs": [
    {
     "name": "stdout",
     "output_type": "stream",
     "text": [
      "Greater Element :17 \n",
      "Smaller Element :1\n"
     ]
    }
   ],
   "source": [
    "greater=my_list[0]\n",
    "smaller=my_list[0]\n",
    "\n",
    "for num in my_list:\n",
    "    if greater <num:\n",
    "        greater=num\n",
    "    elif smaller>num:\n",
    "        smaller=num\n",
    "        \n",
    "print(f'Greater Element :{greater} \\nSmaller Element :{smaller}')"
   ]
  },
  {
   "cell_type": "markdown",
   "id": "1cd8f73b",
   "metadata": {},
   "source": [
    "Average"
   ]
  },
  {
   "cell_type": "code",
   "execution_count": 5,
   "id": "42672e0f",
   "metadata": {},
   "outputs": [
    {
     "name": "stdout",
     "output_type": "stream",
     "text": [
      "Average is :  9.0\n"
     ]
    }
   ],
   "source": [
    "sum=0\n",
    "for num in my_list:\n",
    "    sum+=num\n",
    "\n",
    "average=sum/len(my_list)\n",
    "\n",
    "print('Average is : ',average)"
   ]
  },
  {
   "cell_type": "markdown",
   "id": "deb93a0f",
   "metadata": {},
   "source": [
    "Chechking Vowels\n"
   ]
  },
  {
   "cell_type": "code",
   "execution_count": 7,
   "id": "c62f0469",
   "metadata": {},
   "outputs": [
    {
     "name": "stdout",
     "output_type": "stream",
     "text": [
      "Vowels List :  ['awais', 'oprhan']\n"
     ]
    }
   ],
   "source": [
    "words=['awais','saad','zawar','oprhan']\n",
    "vowel_list=[]\n",
    "for word in words:\n",
    "    if word.startswith(('a','e','i','o','u','A','E','I','O','U')):\n",
    "        vowel_list.append(word)\n",
    "    \n",
    "print('Vowels List : ',vowel_list)"
   ]
  },
  {
   "cell_type": "markdown",
   "id": "bc225eb3",
   "metadata": {},
   "source": [
    "Reversing List"
   ]
  },
  {
   "cell_type": "code",
   "execution_count": 8,
   "id": "a03d8d2d",
   "metadata": {},
   "outputs": [
    {
     "name": "stdout",
     "output_type": "stream",
     "text": [
      "Reversed List is :  [17, 15, 13, 11, 9, 7, 5, 3, 1]\n"
     ]
    }
   ],
   "source": [
    "reversed_list=[]\n",
    "\n",
    "for i in range(len(my_list)-1,-1,-1):\n",
    "    reversed_list.append(my_list[i])\n",
    "    \n",
    "print('Reversed List is : ',reversed_list)"
   ]
  },
  {
   "cell_type": "markdown",
   "id": "23d9d99b",
   "metadata": {},
   "source": [
    "Unique Words"
   ]
  },
  {
   "cell_type": "code",
   "execution_count": null,
   "id": "dafff22f",
   "metadata": {},
   "outputs": [
    {
     "name": "stdout",
     "output_type": "stream",
     "text": [
      "Sorted Unique words are  ['and', 'fun', 'is', 'powerful', 'pyhton']\n"
     ]
    }
   ],
   "source": [
    "sentance=input('Enter a sentance ')\n",
    "\n",
    "words=sentance.split(' ')\n",
    "unique_words=[]\n",
    "\n",
    "for word in words:\n",
    "    if word not in unique_words:\n",
    "        unique_words.append(word)\n",
    "\n",
    "unique_words.sort()\n",
    "\n",
    "print('Sorted Unique words are : ',unique_words)"
   ]
  }
 ],
 "metadata": {
  "kernelspec": {
   "display_name": "Python 3",
   "language": "python",
   "name": "python3"
  },
  "language_info": {
   "codemirror_mode": {
    "name": "ipython",
    "version": 3
   },
   "file_extension": ".py",
   "mimetype": "text/x-python",
   "name": "python",
   "nbconvert_exporter": "python",
   "pygments_lexer": "ipython3",
   "version": "3.12.3"
  }
 },
 "nbformat": 4,
 "nbformat_minor": 5
}
