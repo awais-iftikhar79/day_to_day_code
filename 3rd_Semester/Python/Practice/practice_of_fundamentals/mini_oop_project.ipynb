{
 "cells": [
  {
   "cell_type": "markdown",
   "id": "9585b5ea",
   "metadata": {},
   "source": [
    "University Management System"
   ]
  },
  {
   "cell_type": "code",
   "execution_count": null,
   "id": "db1e29ba",
   "metadata": {},
   "outputs": [
    {
     "ename": "TypeError",
     "evalue": "Teacher.__init__() missing 1 required positional argument: 'salry'",
     "output_type": "error",
     "traceback": [
      "\u001b[0;31m---------------------------------------------------------------------------\u001b[0m",
      "\u001b[0;31mTypeError\u001b[0m                                 Traceback (most recent call last)",
      "Cell \u001b[0;32mIn[5], line 75\u001b[0m\n\u001b[1;32m     71\u001b[0m             \u001b[38;5;28;01mfor\u001b[39;00m student \u001b[38;5;129;01min\u001b[39;00m \u001b[38;5;28mself\u001b[39m\u001b[38;5;241m.\u001b[39m_students:\n\u001b[1;32m     72\u001b[0m                 \u001b[38;5;28mprint\u001b[39m(\u001b[38;5;124mf\u001b[39m\u001b[38;5;124m\"\u001b[39m\u001b[38;5;124m- \u001b[39m\u001b[38;5;132;01m{\u001b[39;00mstudent\u001b[38;5;241m.\u001b[39m_name\u001b[38;5;132;01m}\u001b[39;00m\u001b[38;5;124m (Roll No: \u001b[39m\u001b[38;5;132;01m{\u001b[39;00mstudent\u001b[38;5;241m.\u001b[39m_roll_no\u001b[38;5;132;01m}\u001b[39;00m\u001b[38;5;124m)\u001b[39m\u001b[38;5;124m\"\u001b[39m)\n\u001b[0;32m---> 75\u001b[0m t1\u001b[38;5;241m=\u001b[39m\u001b[43mTeacher\u001b[49m\u001b[43m(\u001b[49m\u001b[38;5;124;43m\"\u001b[39;49m\u001b[38;5;124;43mQasim Riz\u001b[39;49m\u001b[38;5;124;43m\"\u001b[39;49m\u001b[43m,\u001b[49m\u001b[38;5;124;43m\"\u001b[39;49m\u001b[38;5;124;43mAI\u001b[39;49m\u001b[38;5;124;43m\"\u001b[39;49m\u001b[43m,\u001b[49m\u001b[38;5;241;43m50000\u001b[39;49m\u001b[43m)\u001b[49m\n\u001b[1;32m     76\u001b[0m s1\u001b[38;5;241m=\u001b[39mStudent(\u001b[38;5;124m\"\u001b[39m\u001b[38;5;124mAwais\u001b[39m\u001b[38;5;124m\"\u001b[39m,\u001b[38;5;241m2024124\u001b[39m)\n\u001b[1;32m     77\u001b[0m s2\u001b[38;5;241m=\u001b[39mStudent(\u001b[38;5;124m\"\u001b[39m\u001b[38;5;124msalman\u001b[39m\u001b[38;5;124m\"\u001b[39m,\u001b[38;5;241m2025614\u001b[39m)\n",
      "\u001b[0;31mTypeError\u001b[0m: Teacher.__init__() missing 1 required positional argument: 'salry'"
     ]
    }
   ],
   "source": [
    "class Person:\n",
    "    def __init__(self,name,age):\n",
    "        self._name=name\n",
    "        self._age=age\n",
    "    \n",
    "    def display_info(self):\n",
    "        print(f'Name : {self._name}\\nAge : {self._age}')\n",
    "    \n",
    "\n",
    "class Student(Person):\n",
    "    def __init__(self, name, age,roll_no):\n",
    "        super().__init__(name, age)\n",
    "        self._roll_no=roll_no\n",
    "        self._enrolled_courses=[]\n",
    "        \n",
    "    def enroll(self,course):\n",
    "        self._enrolled_courses.append(course)\n",
    "    \n",
    "    def show_courses(self):\n",
    "        if not self._enrolled_courses:\n",
    "            print(\"No courses enrolled yet.\")\n",
    "        else:\n",
    "            print(\"Courses Enrolled:\")\n",
    "            for course in self._enrolled_courses:\n",
    "                print(f\"- {course}\")\n",
    "\n",
    "            \n",
    "    def display_info(self):\n",
    "        super().display_info()\n",
    "        print(f'Roll number : {self._roll_no}')            \n",
    "            \n",
    "\n",
    "class Teacher(Person):\n",
    "    def __init__(self, name, age,sub,salary):\n",
    "        super().__init__(name, age)\n",
    "        self._subject=sub\n",
    "        self.__salary=salary\n",
    "    \n",
    "    @property\n",
    "    def salary(self):\n",
    "        return self.__salary\n",
    "    \n",
    "    @salary.setter\n",
    "    def salary(self,value):\n",
    "        if value < 0:\n",
    "            raise ValueError(\"Salry cannot be -ive\")\n",
    "        self.__salary=value\n",
    "        \n",
    "    def display_info(self):\n",
    "        super().display_info()\n",
    "        print(f'Subject : {self._subject}\\nSalary : {self.__salary}')\n",
    "        \n",
    "\n",
    "class Course:\n",
    "    def __init__(self,name,teacher):\n",
    "           self._course_name=name\n",
    "           self._teacher=teacher\n",
    "           self._students=[]\n",
    "           \n",
    "    def add_student(self,s):\n",
    "        self._students.append(s)\n",
    "        \n",
    "    def show_details(self):\n",
    "        print(f\"\\n📘 Course: {self._course_name}\")\n",
    "        print(f\"👨‍🏫 Teacher: {self._teacher._name} (Subject: {self._teacher._subject})\")\n",
    "    \n",
    "        if not self._students:\n",
    "            print(\"No students enrolled yet.\")\n",
    "        else:\n",
    "            print(\"👩‍🎓 Students Enrolled:\")\n",
    "            for student in self._students:\n",
    "                print(f\"- {student._name} (Roll No: {student._roll_no})\")\n",
    "                \n",
    "                \n",
    "t1=Teacher(\"Qasim Riz\",\"AI\",50000)\n",
    "s1=Student(\"Awais\",2024124)\n",
    "s2=Student(\"salman\",2025614)\n",
    "\n",
    "course=Course()\n",
    "course.add_student(s1)\n",
    "course.add_student(s2)\n",
    "course.show_details()\n"
   ]
  }
 ],
 "metadata": {
  "kernelspec": {
   "display_name": "Python 3",
   "language": "python",
   "name": "python3"
  },
  "language_info": {
   "codemirror_mode": {
    "name": "ipython",
    "version": 3
   },
   "file_extension": ".py",
   "mimetype": "text/x-python",
   "name": "python",
   "nbconvert_exporter": "python",
   "pygments_lexer": "ipython3",
   "version": "3.12.3"
  }
 },
 "nbformat": 4,
 "nbformat_minor": 5
}
