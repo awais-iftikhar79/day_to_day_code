{
 "cells": [
  {
   "cell_type": "markdown",
   "id": "5dcc9a75",
   "metadata": {},
   "source": [
    "Single Inheritance"
   ]
  },
  {
   "cell_type": "code",
   "execution_count": 5,
   "id": "270cb313",
   "metadata": {},
   "outputs": [
    {
     "name": "stdout",
     "output_type": "stream",
     "text": [
      "Circle Area : 36.32 and Rectangle Area : 24\n"
     ]
    }
   ],
   "source": [
    "import math as m\n",
    "class Shape:\n",
    "    def area(self):\n",
    "        raise NotImplemented('Not implemented')\n",
    "        \n",
    "class Circle(Shape):\n",
    "    def __init__(self,radius):\n",
    "        self.radius=radius\n",
    "        \n",
    "    def area(self):\n",
    "        return (m.pi*self.radius**2)\n",
    "    \n",
    "class Rectangle(Shape):\n",
    "    def __init__(self,length,width):\n",
    "        self.length=length\n",
    "        self.width=width\n",
    "        \n",
    "    def area(self):\n",
    "        return (self.length*self.width)\n",
    "    \n",
    "    \n",
    "    \n",
    "c1=Circle(3.4)\n",
    "r1=Rectangle(4,6)\n",
    "s1=Shape()\n",
    "print(f'Circle Area : {c1.area():.2f} and Rectangle Area : {r1.area()}')\n",
    "#s1.area()  cause an error"
   ]
  },
  {
   "cell_type": "markdown",
   "id": "4edaa806",
   "metadata": {},
   "source": [
    "Vehicle Class"
   ]
  },
  {
   "cell_type": "code",
   "execution_count": 7,
   "id": "6624322c",
   "metadata": {},
   "outputs": [
    {
     "name": "stdout",
     "output_type": "stream",
     "text": [
      "Type : Car\n",
      "Name : Honda Civic\n",
      "Model : 2022\n",
      "Price : $70000\n",
      "Seats : 4\n",
      "\n",
      "Type : Bike\n",
      "Name : CD-70\n",
      "Model : 2023\n",
      "Price : $25000\n",
      "\n"
     ]
    }
   ],
   "source": [
    "class Vehicle:\n",
    "    def __init__(self,type):\n",
    "        self.type=type\n",
    "        \n",
    "    def show_details(self):\n",
    "        print(f'Type : {self.type}')\n",
    "    \n",
    "        \n",
    "class Car(Vehicle):\n",
    "    def __init__(self, type,name,model,price,seats):\n",
    "        super().__init__(type)\n",
    "        self.name=name\n",
    "        self.model=model\n",
    "        self.price=price\n",
    "        self.seats=seats\n",
    "        \n",
    "    def show_details(self):\n",
    "        super().show_details()\n",
    "        print(f'Name : {self.name}\\nModel : {self.model}\\nPrice : ${self.price}\\nSeats : {self.seats}\\n')\n",
    "        \n",
    "\n",
    "class Bike(Vehicle):\n",
    "    def __init__(self, type,name,model,price):\n",
    "        super().__init__(type)\n",
    "        self.name=name\n",
    "        self.model=model\n",
    "        self.price=price\n",
    "        \n",
    "    def show_details(self):\n",
    "        super().show_details()\n",
    "        print(f'Name : {self.name}\\nModel : {self.model}\\nPrice : ${self.price}\\n')\n",
    "        \n",
    "        \n",
    "\n",
    "car=Car(\"Car\",\"Honda Civic\",2022,70000,4)\n",
    "bike=Bike(\"Bike\",\"CD-70\",2023,25000)\n",
    "\n",
    "car.show_details()\n",
    "bike.show_details()\n",
    "\n",
    "\n"
   ]
  },
  {
   "cell_type": "markdown",
   "id": "bd178940",
   "metadata": {},
   "source": [
    "Employee Class"
   ]
  },
  {
   "cell_type": "code",
   "execution_count": 15,
   "id": "ffbb26fc",
   "metadata": {},
   "outputs": [
    {
     "name": "stdout",
     "output_type": "stream",
     "text": [
      "Name: Awais\n",
      "Salary : 2000\n",
      "\n",
      "Bonus + Salary : 2000\n",
      "\n",
      "400.0 Bonus added to salary\n",
      "Name: Awais\n",
      "Salary : 2400.0\n",
      "\n",
      "Bonus + Salary : 2400.0\n",
      "\n",
      "Name: Saad\n",
      "Salary : 3000\n",
      "\n",
      "Bonus + Salary : 3000\n",
      "\n"
     ]
    }
   ],
   "source": [
    "class Empolyee:\n",
    "    def __init__(self,name,salary):\n",
    "        self.name=name\n",
    "        self.salary=salary\n",
    "        \n",
    "    @property\n",
    "    def salary(self):\n",
    "        return self._salary\n",
    "    \n",
    "    @salary.setter   \n",
    "    def salary(self,value):\n",
    "        if value<0:\n",
    "            raise ValueError('Salray cannot be -ive')\n",
    "        self._salary=value\n",
    "        \n",
    "    def cal_bonus(self):\n",
    "        raise NotImplemented(\"Must be implement in subclass\")\n",
    "    \n",
    "    def show_details(self):\n",
    "        print(f'Name: {self.name}\\nSalary : {self.salary}\\n')\n",
    "\n",
    "class Manager(Empolyee):\n",
    "    def cal_bonus(self):\n",
    "        bonous=(20/100)*self.salary\n",
    "        self.salary += bonous\n",
    "        print(f'{bonous} Bonus added to salary')\n",
    "        \n",
    "    def show_details(self):\n",
    "        super().show_details()\n",
    "        print(f'Bonus + Salary : {self.salary}\\n')\n",
    "    \n",
    "class Developer(Empolyee):\n",
    "    def cal_bonus(self):\n",
    "        bonous=(10/100)*self.salary\n",
    "        self.salary += bonous\n",
    "        print(f'{bonous} Bonus added to salary')\n",
    "        \n",
    "    def show_details(self):\n",
    "        super().show_details()\n",
    "        print(f'Bonus + Salary : {self.salary}\\n')\n",
    "        \n",
    "    \n",
    "m=Manager(\"Awais\",2000)\n",
    "d=Developer(\"Saad\",3000)\n",
    "m.show_details()\n",
    "m.cal_bonus()\n",
    "m.show_details()\n",
    "d.show_details()\n",
    "\n"
   ]
  }
 ],
 "metadata": {
  "kernelspec": {
   "display_name": "Python 3",
   "language": "python",
   "name": "python3"
  },
  "language_info": {
   "codemirror_mode": {
    "name": "ipython",
    "version": 3
   },
   "file_extension": ".py",
   "mimetype": "text/x-python",
   "name": "python",
   "nbconvert_exporter": "python",
   "pygments_lexer": "ipython3",
   "version": "3.12.3"
  }
 },
 "nbformat": 4,
 "nbformat_minor": 5
}
