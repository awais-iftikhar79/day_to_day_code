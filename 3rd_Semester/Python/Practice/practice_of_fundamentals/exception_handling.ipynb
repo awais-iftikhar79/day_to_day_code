{
 "cells": [
  {
   "cell_type": "code",
   "execution_count": 10,
   "id": "ff8091d0",
   "metadata": {},
   "outputs": [
    {
     "name": "stdout",
     "output_type": "stream",
     "text": [
      "Divisor cannot be Zero !\n",
      "Operation is complete\n"
     ]
    }
   ],
   "source": [
    "try:\n",
    "    a=int(input(\"Enter 1st number : \"))\n",
    "    b=int(input(\"Enter 2nd number : \"))\n",
    "    result=a/b\n",
    "    print(\"a/b = \",result)\n",
    "except ZeroDivisionError:\n",
    "    print(\"Divisor cannot be Zero !\")\n",
    "except ValueError:\n",
    "    print(\"Enter just digits !\")\n",
    "finally:\n",
    "    print(\"Operation is complete\")\n",
    "    "
   ]
  },
  {
   "cell_type": "code",
   "execution_count": 22,
   "id": "3e811bdf",
   "metadata": {},
   "outputs": [
    {
     "name": "stdout",
     "output_type": "stream",
     "text": [
      "Age is : 19\n"
     ]
    }
   ],
   "source": [
    "def get_age():\n",
    "    \n",
    "        age=int(input(\"Enter your age : \"))\n",
    "        if 0 > age or age > 120 :\n",
    "            raise ValueError(\"Age must between 0 - 120 !\")\n",
    "        return age\n",
    "     \n",
    "        \n",
    "\n",
    "a=get_age()\n",
    "print(\"Age is :\",a)\n",
    "\n",
    "    \n",
    "            "
   ]
  }
 ],
 "metadata": {
  "kernelspec": {
   "display_name": "Python 3",
   "language": "python",
   "name": "python3"
  },
  "language_info": {
   "codemirror_mode": {
    "name": "ipython",
    "version": 3
   },
   "file_extension": ".py",
   "mimetype": "text/x-python",
   "name": "python",
   "nbconvert_exporter": "python",
   "pygments_lexer": "ipython3",
   "version": "3.12.3"
  }
 },
 "nbformat": 4,
 "nbformat_minor": 5
}
