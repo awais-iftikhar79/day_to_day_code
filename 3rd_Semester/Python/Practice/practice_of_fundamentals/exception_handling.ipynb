{
 "cells": [
  {
   "cell_type": "code",
   "execution_count": 10,
   "id": "ff8091d0",
   "metadata": {},
   "outputs": [
    {
     "name": "stdout",
     "output_type": "stream",
     "text": [
      "Divisor cannot be Zero !\n",
      "Operation is complete\n"
     ]
    }
   ],
   "source": [
    "try:\n",
    "    a=int(input(\"Enter 1st number : \"))\n",
    "    b=int(input(\"Enter 2nd number : \"))\n",
    "    result=a/b\n",
    "    print(\"a/b = \",result)\n",
    "except ZeroDivisionError:\n",
    "    print(\"Divisor cannot be Zero !\")\n",
    "except ValueError:\n",
    "    print(\"Enter just digits !\")\n",
    "finally:\n",
    "    print(\"Operation is complete\")\n",
    "    "
   ]
  },
  {
   "cell_type": "code",
   "execution_count": 13,
   "id": "3e811bdf",
   "metadata": {},
   "outputs": [
    {
     "ename": "ValueError",
     "evalue": "Age must between 0 - 120 !",
     "output_type": "error",
     "traceback": [
      "\u001b[0;31m---------------------------------------------------------------------------\u001b[0m",
      "\u001b[0;31mValueError\u001b[0m                                Traceback (most recent call last)",
      "Cell \u001b[0;32mIn[13], line 10\u001b[0m\n\u001b[1;32m      5\u001b[0m             \u001b[38;5;28;01mraise\u001b[39;00m \u001b[38;5;167;01mValueError\u001b[39;00m(\u001b[38;5;124m\"\u001b[39m\u001b[38;5;124mAge must between 0 - 120 !\u001b[39m\u001b[38;5;124m\"\u001b[39m)\n\u001b[1;32m      6\u001b[0m         \u001b[38;5;28;01mreturn\u001b[39;00m age\n\u001b[0;32m---> 10\u001b[0m a\u001b[38;5;241m=\u001b[39m\u001b[43mget_age\u001b[49m\u001b[43m(\u001b[49m\u001b[43m)\u001b[49m\n\u001b[1;32m     11\u001b[0m \u001b[38;5;28mprint\u001b[39m(a)\n",
      "Cell \u001b[0;32mIn[13], line 5\u001b[0m, in \u001b[0;36mget_age\u001b[0;34m()\u001b[0m\n\u001b[1;32m      3\u001b[0m age\u001b[38;5;241m=\u001b[39m\u001b[38;5;28mint\u001b[39m(\u001b[38;5;28minput\u001b[39m(\u001b[38;5;124m\"\u001b[39m\u001b[38;5;124mEnter your age : \u001b[39m\u001b[38;5;124m\"\u001b[39m))\n\u001b[1;32m      4\u001b[0m \u001b[38;5;28;01mif\u001b[39;00m \u001b[38;5;241m0\u001b[39m \u001b[38;5;241m<\u001b[39m age \u001b[38;5;241m<\u001b[39m \u001b[38;5;241m120\u001b[39m :\n\u001b[0;32m----> 5\u001b[0m     \u001b[38;5;28;01mraise\u001b[39;00m \u001b[38;5;167;01mValueError\u001b[39;00m(\u001b[38;5;124m\"\u001b[39m\u001b[38;5;124mAge must between 0 - 120 !\u001b[39m\u001b[38;5;124m\"\u001b[39m)\n\u001b[1;32m      6\u001b[0m \u001b[38;5;28;01mreturn\u001b[39;00m age\n",
      "\u001b[0;31mValueError\u001b[0m: Age must between 0 - 120 !"
     ]
    }
   ],
   "source": [
    "def get_age():\n",
    "    \n",
    "        age=int(input(\"Enter your age : \"))\n",
    "        if 0 < age < 120 :\n",
    "            raise ValueError(\"Age must between 0 - 120 !\")\n",
    "        return age\n",
    "     \n",
    "        \n",
    "\n",
    "a=get_age()\n",
    "print(a)\n",
    "\n",
    "    \n",
    "            "
   ]
  }
 ],
 "metadata": {
  "kernelspec": {
   "display_name": "Python 3",
   "language": "python",
   "name": "python3"
  },
  "language_info": {
   "codemirror_mode": {
    "name": "ipython",
    "version": 3
   },
   "file_extension": ".py",
   "mimetype": "text/x-python",
   "name": "python",
   "nbconvert_exporter": "python",
   "pygments_lexer": "ipython3",
   "version": "3.12.3"
  }
 },
 "nbformat": 4,
 "nbformat_minor": 5
}
