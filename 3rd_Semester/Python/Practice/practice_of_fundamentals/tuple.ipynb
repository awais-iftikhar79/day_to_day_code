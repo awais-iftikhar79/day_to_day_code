{
 "cells": [
  {
   "cell_type": "markdown",
   "id": "4ac2dd38",
   "metadata": {},
   "source": [
    "Sum"
   ]
  },
  {
   "cell_type": "code",
   "execution_count": 1,
   "id": "dd0e19e6",
   "metadata": {},
   "outputs": [
    {
     "name": "stdout",
     "output_type": "stream",
     "text": [
      "Sum of elements is :  45\n"
     ]
    }
   ],
   "source": [
    "my_tuple=(1,2,3,4,5,6,7,8,9)\n",
    "\n",
    "sum=0\n",
    "for num in my_tuple:\n",
    "    sum += num\n",
    "    \n",
    "print('Sum of elements is : ',sum)"
   ]
  },
  {
   "cell_type": "markdown",
   "id": "85e28944",
   "metadata": {},
   "source": [
    "Maximum and Minimum"
   ]
  },
  {
   "cell_type": "code",
   "execution_count": 2,
   "id": "b110794f",
   "metadata": {},
   "outputs": [
    {
     "name": "stdout",
     "output_type": "stream",
     "text": [
      "Max : 9\n",
      "Smaller : 1\n"
     ]
    }
   ],
   "source": [
    "greater=my_tuple[0]\n",
    "smaller=my_tuple[0]\n",
    "\n",
    "for num in my_tuple:\n",
    "    if greater < num :\n",
    "        greater=num\n",
    "    elif smaller > num :\n",
    "        smaller=num\n",
    "        \n",
    "print(f'Max : {greater}\\nSmaller : {smaller}')"
   ]
  },
  {
   "cell_type": "markdown",
   "id": "d6ba411d",
   "metadata": {},
   "source": [
    "Count each Element"
   ]
  },
  {
   "cell_type": "code",
   "execution_count": null,
   "id": "8930dd50",
   "metadata": {},
   "outputs": [
    {
     "name": "stdout",
     "output_type": "stream",
     "text": [
      "1:1 ,  2:2 ,  2:2 ,  3:4 ,  3:4 ,  3:4 ,  3:4 ,  4:2 ,  4:2 ,  5:1 ,  6:3 ,  6:3 ,  6:3 ,  7:1 ,  \n",
      "{1: 1, 2: 2, 3: 4, 4: 2, 5: 1, 6: 3, 7: 1}\n"
     ]
    }
   ],
   "source": [
    "my_tuple=(1,2,2,3,3,3,3,4,4,5,6,6,6,7)\n",
    "\n",
    "for num in my_tuple:\n",
    "    count_element=my_tuple.count(num)\n",
    "    print(f'{num}:{count_element} , ',end=' ')\n",
    "\n",
    "print()\n",
    "\n",
    "#Alternate Method\n",
    "\n",
    "frequency={}\n",
    "for num in my_tuple:\n",
    "    if num in frequency:\n",
    "        frequency[num]+=1\n",
    "    else:\n",
    "        frequency[num]=1\n",
    "        \n",
    "print(frequency)"
   ]
  },
  {
   "cell_type": "markdown",
   "id": "23fafbee",
   "metadata": {},
   "source": [
    "Check length "
   ]
  },
  {
   "cell_type": "code",
   "execution_count": 10,
   "id": "0c819b36",
   "metadata": {},
   "outputs": [
    {
     "name": "stdout",
     "output_type": "stream",
     "text": [
      "Awais Ahmad "
     ]
    }
   ],
   "source": [
    "my_tuple=('Awais','Saad','Ahmad','Ali')\n",
    "\n",
    "for name in my_tuple:\n",
    "    if len(name)>4:\n",
    "        print(name,end=' ')"
   ]
  },
  {
   "cell_type": "markdown",
   "id": "d8a377f8",
   "metadata": {},
   "source": [
    "Tuple is tuple"
   ]
  },
  {
   "cell_type": "code",
   "execution_count": 14,
   "id": "751d84c1",
   "metadata": {},
   "outputs": [
    {
     "name": "stdout",
     "output_type": "stream",
     "text": [
      "Student Saad has max age 22\n",
      "Average age is 21.0\n",
      "Abid - 21\n",
      "Saad - 22\n"
     ]
    }
   ],
   "source": [
    "students=(('Awais',20),('Abid',21),('Saad',22))\n",
    "# finding max age \n",
    "\n",
    "max_age=0\n",
    "old_name=\"\"\n",
    "\n",
    "for student in students:\n",
    "    age=student[1]\n",
    "    name=student[0]\n",
    "    if age>max_age:\n",
    "        max_age=age\n",
    "        old_name=name\n",
    "\n",
    "print(f'Student {old_name} has max age {max_age}')\n",
    "\n",
    "# Average Age\n",
    "\n",
    "total_age=0\n",
    "for student in students:\n",
    "    age=student[1]\n",
    "    total_age += age\n",
    "    \n",
    "average=total_age/len(students)\n",
    "\n",
    "print(f'Average age is {average}')\n",
    "\n",
    "# students older than 20\n",
    "\n",
    "for student in students:\n",
    "    name=student[0]\n",
    "    age=student[1]\n",
    "    if age>20:\n",
    "        print(f'{name} - {age}')\n",
    "        "
   ]
  }
 ],
 "metadata": {
  "kernelspec": {
   "display_name": "Python 3",
   "language": "python",
   "name": "python3"
  },
  "language_info": {
   "codemirror_mode": {
    "name": "ipython",
    "version": 3
   },
   "file_extension": ".py",
   "mimetype": "text/x-python",
   "name": "python",
   "nbconvert_exporter": "python",
   "pygments_lexer": "ipython3",
   "version": "3.12.3"
  }
 },
 "nbformat": 4,
 "nbformat_minor": 5
}
