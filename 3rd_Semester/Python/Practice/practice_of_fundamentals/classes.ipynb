{
 "cells": [
  {
   "cell_type": "markdown",
   "id": "4c2fece1",
   "metadata": {},
   "source": [
    "Simple Class"
   ]
  },
  {
   "cell_type": "code",
   "execution_count": 3,
   "id": "6bc78d87",
   "metadata": {},
   "outputs": [
    {
     "name": "stdout",
     "output_type": "stream",
     "text": [
      "My name is Awais and age is 19\n"
     ]
    }
   ],
   "source": [
    "class Person:\n",
    "    def __init__(self,name,age):\n",
    "        self.name=name\n",
    "        self.age=age\n",
    "        \n",
    "    def greet(self):\n",
    "        print(f'My name is {self.name} and age is {self.age}')\n",
    "        \n",
    "\n",
    "p1=Person(\"Awais\",19)\n",
    "p1.greet()"
   ]
  },
  {
   "cell_type": "code",
   "execution_count": 1,
   "id": "90d46953",
   "metadata": {},
   "outputs": [
    {
     "name": "stdout",
     "output_type": "stream",
     "text": [
      "Area of rectangle is : 50\n",
      "Area of Parimeter is : 30\n"
     ]
    }
   ],
   "source": [
    "class Rectangle:\n",
    "    def __init__(self,length,width):\n",
    "        self.length=length\n",
    "        self.width=width\n",
    "        \n",
    "    def area(self):\n",
    "        return self.width*self.length\n",
    "    \n",
    "    def parimeter(self):\n",
    "        return 2*(self.length+self.width)\n",
    "    \n",
    "\n",
    "r1=Rectangle(5,10)\n",
    "print(f'Area of rectangle is : {r1.area()}')\n",
    "print(f'Area of Parimeter is : {r1.parimeter()}')\n"
   ]
  },
  {
   "cell_type": "markdown",
   "id": "9b0f3585",
   "metadata": {},
   "source": [
    "Book class"
   ]
  },
  {
   "cell_type": "code",
   "execution_count": 12,
   "id": "85e9bf2c",
   "metadata": {},
   "outputs": [
    {
     "name": "stdout",
     "output_type": "stream",
     "text": [
      "------- Display Details of Book  -------\n",
      "Title : The Great Gatsby \n",
      "Author : F. Scott Fitzgerald \n",
      "Price : $15.99\n",
      "\n",
      "After applying 15% Discount . New price is $13.59\n",
      "\n",
      "------- Display Details of Book  -------\n",
      "Title : The Great Gatsby \n",
      "Author : F. Scott Fitzgerald \n",
      "Price : $13.59\n",
      "\n"
     ]
    }
   ],
   "source": [
    "class Book:\n",
    "    def __init__(self,title,author,price):\n",
    "        self.title=title\n",
    "        self.author=author\n",
    "        self.price=price\n",
    "        \n",
    "    def apply_discount(self,dis_per):\n",
    "        dis_amount = (dis_per/100)*self.price\n",
    "        self.price -=dis_amount\n",
    "        print(f'After applying {dis_per}% Discount . New price is ${self.price:.2f}\\n')\n",
    "    \n",
    "    def show_details(self):\n",
    "        print('''------- Display Details of Book  -------''')\n",
    "        print(f\"Title : {self.title} \\nAuthor : {self.author} \\nPrice : ${self.price:.2f}\\n\")\n",
    "        \n",
    "        \n",
    "b1=Book(\"The Great Gatsby\", \"F. Scott Fitzgerald\", 15.99)\n",
    "b1.show_details()\n",
    "b1.apply_discount(15)\n",
    "b1.show_details()"
   ]
  },
  {
   "cell_type": "markdown",
   "id": "9af2c4aa",
   "metadata": {},
   "source": [
    "Temperature Class"
   ]
  },
  {
   "cell_type": "code",
   "execution_count": 21,
   "id": "32c947fb",
   "metadata": {},
   "outputs": [
    {
     "name": "stdout",
     "output_type": "stream",
     "text": [
      "Celsius : -40.00 \n",
      "Fahrenheit : -40.00\n"
     ]
    }
   ],
   "source": [
    "class Temperature:\n",
    "    def celsius_to_fahrenheit(celsius):\n",
    "        \"\"\"Convert Celsius to Fahrenheit.\"\"\"\n",
    "        return ((celsius * 9/5) + 32)\n",
    "    \n",
    "    def fahrenheit_to_celsius(fahrenheit):\n",
    "        \"\"\"Convert Fahrenheit to Celsius.\"\"\"\n",
    "        return ((fahrenheit - 32) * 5/9)\n",
    "    \n",
    "c=Temperature.celsius_to_fahrenheit(-40)\n",
    "f=Temperature.fahrenheit_to_celsius(-40)\n",
    "\n",
    "print(f'Celsius : {c:.2f} \\nFahrenheit : {f:.2f}')\n",
    "\n",
    "    "
   ]
  },
  {
   "cell_type": "markdown",
   "id": "a7b05104",
   "metadata": {},
   "source": [
    "Student Class"
   ]
  },
  {
   "cell_type": "code",
   "execution_count": null,
   "id": "874204f2",
   "metadata": {},
   "outputs": [
    {
     "name": "stdout",
     "output_type": "stream",
     "text": [
      "Total Marks : 255\n",
      "Average : 85.0\n",
      "B\n",
      "Grade : None\n"
     ]
    }
   ],
   "source": [
    "class Student:\n",
    "    def __init__(self,name,m1,m2,m3):\n",
    "        self.name=name\n",
    "        self.m1=m1\n",
    "        self.m2=m2\n",
    "        self.m3=m3\n",
    "        \n",
    "    def total_marks(self):\n",
    "        return self.m1+self.m2+self.m3\n",
    "    \n",
    "    def average(self):\n",
    "        return self.total_marks()/3\n",
    "    \n",
    "    def print_grade(self):\n",
    "        avrg=self.average()\n",
    "        \n",
    "        if avrg >= 90:\n",
    "            grade=\"A\"\n",
    "        elif avrg >= 80:\n",
    "            grade=\"B\"\n",
    "        elif avrg >= 70:\n",
    "            grade=\"C\"\n",
    "        elif avrg >= 60:\n",
    "            grade=\"D\"\n",
    "        else:\n",
    "            grade=\"F\"  \n",
    "            \n",
    "\n",
    "s1=Student(\"Awais\",90,80,85)\n",
    "print(f'Total Marks : {s1.total_marks()}')\n",
    "print(f'Average : {s1.average()}')\n",
    "print(f'Grade : {s1.print_grade() }')         \n",
    "    "
   ]
  }
 ],
 "metadata": {
  "kernelspec": {
   "display_name": "Python 3",
   "language": "python",
   "name": "python3"
  },
  "language_info": {
   "codemirror_mode": {
    "name": "ipython",
    "version": 3
   },
   "file_extension": ".py",
   "mimetype": "text/x-python",
   "name": "python",
   "nbconvert_exporter": "python",
   "pygments_lexer": "ipython3",
   "version": "3.12.3"
  }
 },
 "nbformat": 4,
 "nbformat_minor": 5
}
