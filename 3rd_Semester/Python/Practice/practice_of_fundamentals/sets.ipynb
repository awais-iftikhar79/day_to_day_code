{
 "cells": [
  {
   "cell_type": "code",
   "execution_count": 2,
   "id": "c1ac5aae",
   "metadata": {},
   "outputs": [
    {
     "name": "stdout",
     "output_type": "stream",
     "text": [
      "{'Orange', 'Grapes', 'Apple', 'Lemon', 'Mango', 'Banana'}\n",
      "Yes , Apple is present \n"
     ]
    }
   ],
   "source": [
    "fruits={'Banana','Lemon','Mango','Orange','Apple'}\n",
    "\n",
    "fruits.add('Grapes')\n",
    "fruits.add('Orange')\n",
    "print(fruits)\n",
    "\n",
    "fruits.remove('Orange')\n",
    "\n",
    "if 'Apple' in fruits:\n",
    "    print('Yes , Apple is present ')\n",
    "else:\n",
    "     print('No , Apple is present ')\n",
    "    \n"
   ]
  },
  {
   "cell_type": "markdown",
   "id": "b52caa71",
   "metadata": {},
   "source": [
    "List to Set"
   ]
  },
  {
   "cell_type": "code",
   "execution_count": 1,
   "id": "915c9e2b",
   "metadata": {},
   "outputs": [
    {
     "name": "stdout",
     "output_type": "stream",
     "text": [
      "[1, 2, 3, 4, 4, 4, 5, 6, 7, 7]\n",
      "{1, 2, 3, 4, 5, 6, 7}\n"
     ]
    }
   ],
   "source": [
    "my_list=[1,2,3,4,4,4,5,6,7,7]\n",
    "my_set=set(my_list)\n",
    "print(my_list)\n",
    "print(my_set)"
   ]
  },
  {
   "cell_type": "markdown",
   "id": "6ff0cff2",
   "metadata": {},
   "source": [
    "Set Operations"
   ]
  },
  {
   "cell_type": "code",
   "execution_count": 2,
   "id": "d54fd2b3",
   "metadata": {},
   "outputs": [
    {
     "name": "stdout",
     "output_type": "stream",
     "text": [
      "{'abid'}\n",
      "{'taha', 'saad', 'awais'}\n",
      "{'ahmad', 'huzaifa'}\n",
      "{'ahmad', 'taha', 'awais', 'saad', 'huzaifa'}\n"
     ]
    }
   ],
   "source": [
    "students1={'awais','saad','taha','abid'}\n",
    "students2={'abid','ahmad','huzaifa'}\n",
    "\n",
    "print(students1 & students2)\n",
    "print(students1 - students2)\n",
    "print(students2 - students1)\n",
    "print(students1^students2)\n"
   ]
  },
  {
   "cell_type": "markdown",
   "id": "3ce2a3bb",
   "metadata": {},
   "source": [
    "Count unique letters"
   ]
  },
  {
   "cell_type": "code",
   "execution_count": 3,
   "id": "f3fb9105",
   "metadata": {},
   "outputs": [
    {
     "name": "stdout",
     "output_type": "stream",
     "text": [
      "{\"'\", 'a', 'i', 'f', 'h', ' ', 'w', 'r', 'k', 's', 'm', 't'}\n",
      "12\n"
     ]
    }
   ],
   "source": [
    "sentence=input('Enter a sentance ')\n",
    "unique=set()\n",
    "\n",
    "for char in sentence:\n",
    "    if char.isalpha:\n",
    "        unique.add(char)\n",
    "        \n",
    "print(unique)\n",
    "print(len(unique))"
   ]
  }
 ],
 "metadata": {
  "kernelspec": {
   "display_name": "Python 3",
   "language": "python",
   "name": "python3"
  },
  "language_info": {
   "codemirror_mode": {
    "name": "ipython",
    "version": 3
   },
   "file_extension": ".py",
   "mimetype": "text/x-python",
   "name": "python",
   "nbconvert_exporter": "python",
   "pygments_lexer": "ipython3",
   "version": "3.12.3"
  }
 },
 "nbformat": 4,
 "nbformat_minor": 5
}
