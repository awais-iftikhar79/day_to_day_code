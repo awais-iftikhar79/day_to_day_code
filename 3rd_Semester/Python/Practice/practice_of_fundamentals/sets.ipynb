{
 "cells": [
  {
   "cell_type": "code",
   "execution_count": null,
   "id": "c1ac5aae",
   "metadata": {},
   "outputs": [],
   "source": [
    "fruits={'Banana','Lemon','Mango','Orange','Apple'}\n",
    "fruits.add('Grapes')\n",
    "fruits.add('Orange')\n",
    "print(fruits)\n",
    "\n"
   ]
  }
 ],
 "metadata": {
  "kernelspec": {
   "display_name": "Python 3",
   "language": "python",
   "name": "python3"
  },
  "language_info": {
   "name": "python",
   "version": "3.12.3"
  }
 },
 "nbformat": 4,
 "nbformat_minor": 5
}
