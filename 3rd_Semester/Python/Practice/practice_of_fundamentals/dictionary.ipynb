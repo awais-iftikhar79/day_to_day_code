{
 "cells": [
  {
   "cell_type": "markdown",
   "id": "764123a8",
   "metadata": {},
   "source": [
    "Print key and values"
   ]
  },
  {
   "cell_type": "code",
   "execution_count": 2,
   "id": "be29cd2e",
   "metadata": {},
   "outputs": [
    {
     "name": "stdout",
     "output_type": "stream",
     "text": [
      "Name->Awais\n",
      "Depart->AI\n",
      "Grade->B+\n",
      "None\n"
     ]
    }
   ],
   "source": [
    "student={\n",
    "    \"Name\":\"Awais\",\n",
    "    \"Depart\":\"AI\",\n",
    "    \"Grade\":\"B+\"\n",
    "}\n",
    "\n",
    "for key,value in student.items():\n",
    "    print(f'{key}->{value}')\n",
    "\n",
    "student[\"City\"]=\"Mailsi\"\n",
    "print(student.get(\"age\"))"
   ]
  },
  {
   "cell_type": "markdown",
   "id": "4d77dfc0",
   "metadata": {},
   "source": [
    "Max Score and average"
   ]
  },
  {
   "cell_type": "code",
   "execution_count": 6,
   "id": "e0b92f51",
   "metadata": {},
   "outputs": [
    {
     "name": "stdout",
     "output_type": "stream",
     "text": [
      "Top student Abid with max score 92\n",
      "Average scores are : 81.25\n",
      "{'Awais': 89, 'Abid': 92}\n"
     ]
    }
   ],
   "source": [
    "scores = {\"Awais\": 89, \"Hammad\": 76, \"Abid\": 92, \"Ali\": 68}\n",
    "\n",
    "max_score=-1\n",
    "top_student=\"\"\n",
    "\n",
    "for student in scores:\n",
    "    if scores[student] > max_score:\n",
    "        max_score = scores[student]\n",
    "        top_student=student\n",
    "        \n",
    "print(f'Top student {top_student} with max score {scores[top_student]}')\n",
    "\n",
    "# finding average\n",
    "\n",
    "total_marks=0\n",
    "for student in scores:\n",
    "    total_marks += scores[student]\n",
    "    \n",
    "average=total_marks/len(scores)\n",
    "\n",
    "print(f'Average scores are : {average}')\n",
    "\n",
    "#creating dictionatry with 80 >\n",
    "\n",
    "top_dict={}\n",
    "for student in scores:\n",
    "    if scores[student] > 80:\n",
    "        top_dict[student]=scores.get(student)\n",
    "\n",
    "print(top_dict)"
   ]
  },
  {
   "cell_type": "markdown",
   "id": "3e738f4f",
   "metadata": {},
   "source": [
    "Book Dictionary"
   ]
  },
  {
   "cell_type": "code",
   "execution_count": 23,
   "id": "a460a461",
   "metadata": {},
   "outputs": [
    {
     "name": "stdout",
     "output_type": "stream",
     "text": [
      "Python Basics \n",
      " John\n",
      "AI Mastery \n",
      " Awais\n",
      "Data Science \n",
      " Sara\n",
      "Max price of Book is : 700\n",
      "Average price : 600.0\n",
      "{'Book1': {'title': 'Python Basics', 'author': 'John', 'price': 500}, 'Book2': {'title': 'AI Mastery', 'author': 'Awais', 'price': 700}, 'Book3': {'title': 'Data Science', 'author': 'Sara', 'price': 600}, 'Book4': {'title': 'Machine Learning', 'author': 'Emma', 'price': 800}}\n"
     ]
    }
   ],
   "source": [
    "books = {\n",
    "    \"Book1\": {\"title\": \"Python Basics\", \"author\": \"John\", \"price\": 500},\n",
    "    \"Book2\": {\"title\": \"AI Mastery\", \"author\": \"Awais\", \"price\": 700},\n",
    "    \"Book3\": {\"title\": \"Data Science\", \"author\": \"Sara\", \"price\": 600}\n",
    "}\n",
    "\n",
    "for book in books.values():\n",
    "    print(book[\"title\"],'\\n',book[\"author\"])\n",
    "    \n",
    "#finding max price\n",
    "max_price=0\n",
    "for book in books.values():\n",
    "    if book[\"price\"] > max_price:\n",
    "        max_price=book[\"price\"]\n",
    "        \n",
    "print(f'Max price of Book is : {max_price}')\n",
    "\n",
    "#finding average price\n",
    "total_price=0\n",
    "for book_kew,book_info in books.items():\n",
    "    total_price +=book_info.get(\"price\")\n",
    "    \n",
    "average=total_price/len(books)\n",
    "\n",
    "print(f'Average price : {average}')\n",
    "\n",
    "books[\"Book4\"]={\n",
    "    \"title\": \"Machine Learning\",\n",
    "    \"author\": \"Emma\",\n",
    "    \"price\": 800}\n",
    "\n",
    "print(books)"
   ]
  }
 ],
 "metadata": {
  "kernelspec": {
   "display_name": "Python 3",
   "language": "python",
   "name": "python3"
  },
  "language_info": {
   "codemirror_mode": {
    "name": "ipython",
    "version": 3
   },
   "file_extension": ".py",
   "mimetype": "text/x-python",
   "name": "python",
   "nbconvert_exporter": "python",
   "pygments_lexer": "ipython3",
   "version": "3.12.3"
  }
 },
 "nbformat": 4,
 "nbformat_minor": 5
}
