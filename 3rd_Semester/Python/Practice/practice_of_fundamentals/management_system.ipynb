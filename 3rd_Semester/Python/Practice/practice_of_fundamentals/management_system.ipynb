{
 "cells": [
  {
   "cell_type": "markdown",
   "id": "0464bd2f",
   "metadata": {},
   "source": [
    "University management system (mini version)"
   ]
  },
  {
   "cell_type": "code",
   "execution_count": 61,
   "id": "aaaf316a",
   "metadata": {},
   "outputs": [],
   "source": [
    "class Person:\n",
    "    def __init__(self,name,age):\n",
    "        self._name=name\n",
    "        self._age=age\n",
    "        \n",
    "    def display_info(self):\n",
    "        print(f'name : {self._name}\\nAge : {self._age}')"
   ]
  },
  {
   "cell_type": "code",
   "execution_count": 62,
   "id": "0176b95a",
   "metadata": {},
   "outputs": [],
   "source": [
    "class Student(Person):\n",
    "    def __init__(self, name, age,roll_no):\n",
    "        super().__init__(name, age)\n",
    "        self._roll_no=roll_no\n",
    "        self._enrolled_courses=[]\n",
    "        \n",
    "    def enroll(self,course_n):\n",
    "        self._enrolled_courses.append(course_n)\n",
    "    \n",
    "    def show_courses(self):\n",
    "        if not  self._enrolled_courses:\n",
    "            print(f'Courses list is empty !')\n",
    "        else:\n",
    "            print('Enrooled Courses are :')\n",
    "            for course in self._enrolled_courses:\n",
    "                print(f'-{course}')\n",
    "                \n",
    "    def display_info(self):\n",
    "        super().display_info()\n",
    "        print(f'Roll number : {self._roll_no}')\n",
    "    \n",
    "    def __str__(self):\n",
    "       return f'{self._name}'"
   ]
  },
  {
   "cell_type": "code",
   "execution_count": 63,
   "id": "ace43499",
   "metadata": {},
   "outputs": [],
   "source": [
    "class Teacher(Person):\n",
    "    def __init__(self, name, age,sub,salary):\n",
    "        super().__init__(name, age)\n",
    "        self._subject=sub\n",
    "        self._salary=salary\n",
    "    @property  \n",
    "    def salary(self):\n",
    "        return self._salary\n",
    "    @salary.setter\n",
    "    def salary(self,value):\n",
    "        if value < 0 :\n",
    "            raise ValueError(\"salary cannot be -ive\")\n",
    "        self._salary=value\n",
    "    \n",
    "    def display_info(self):\n",
    "        super().display_info()\n",
    "        print(f'Subject : {self._subject}\\nSalary : {self._salary}')\n",
    "        \n",
    "    def __str__(self):\n",
    "        return f'Teacher Name : {self._name}'\n",
    "        \n",
    "        "
   ]
  },
  {
   "cell_type": "code",
   "execution_count": 64,
   "id": "2abdc19f",
   "metadata": {},
   "outputs": [],
   "source": [
    "class Course:\n",
    "    def __init__(self,course_n,teacher_n):\n",
    "        self._course_name=course_n\n",
    "        self._teacher_name=teacher_n\n",
    "        self._students=[]\n",
    "        \n",
    "    def add_student(self,stu):\n",
    "        self._students.append(stu)\n",
    "        \n",
    "    def show_details(self):\n",
    "        print(f'Course Name : {self._course_name}')\n",
    "        print(f'Teacher Name : {self._teacher_name}')\n",
    "        \n",
    "        if not self._students:\n",
    "            print('Students list is empty !')\n",
    "        else:\n",
    "            print('Students are :')\n",
    "            for stu in self._students:\n",
    "                print(f'- {stu} , Roll no. {stu}')\n",
    "                "
   ]
  },
  {
   "cell_type": "code",
   "execution_count": 65,
   "id": "d32d3825",
   "metadata": {},
   "outputs": [
    {
     "name": "stdout",
     "output_type": "stream",
     "text": [
      "Course Name : AI\n",
      "Teacher Name : Teacher Name : Asad Mahmood\n",
      "Students are :\n",
      "- Awais , Roll no. Awais\n",
      "- Abid , Roll no. Abid\n",
      "Course Name : Programing Fundamentals\n",
      "Teacher Name : Teacher Name : Qasim Riz\n",
      "Students are :\n",
      "- Ahmad , Roll no. Ahmad\n"
     ]
    }
   ],
   "source": [
    "s1=Student(\"Awais\",19,2024124)\n",
    "s2=Student(\"Abid\",20,2024603)\n",
    "s3=Student(\"Ahmad\",18,2024341)\n",
    "\n",
    "t1=Teacher(\"Qasim Riz\",28,\"DSA\",-100)\n",
    "t2=Teacher(\"Asad Mahmood\",27,\"Linear Algebra\",40000)\n",
    "\n",
    "c1=Course(\"AI\",t2)\n",
    "c2=Course(\"Programing Fundamentals\",t1)\n",
    "\n",
    "c1.add_student(s1)\n",
    "c1.add_student(s2)\n",
    "\n",
    "c2.add_student(s3)\n",
    "\n",
    "c1.show_details()\n",
    "c2.show_details()"
   ]
  }
 ],
 "metadata": {
  "kernelspec": {
   "display_name": "Python 3",
   "language": "python",
   "name": "python3"
  },
  "language_info": {
   "codemirror_mode": {
    "name": "ipython",
    "version": 3
   },
   "file_extension": ".py",
   "mimetype": "text/x-python",
   "name": "python",
   "nbconvert_exporter": "python",
   "pygments_lexer": "ipython3",
   "version": "3.12.3"
  }
 },
 "nbformat": 4,
 "nbformat_minor": 5
}
