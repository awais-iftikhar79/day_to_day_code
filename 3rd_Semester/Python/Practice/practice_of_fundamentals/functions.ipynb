{
 "cells": [
  {
   "cell_type": "markdown",
   "id": "3d5f3301",
   "metadata": {},
   "source": [
    "Greeting function"
   ]
  },
  {
   "cell_type": "code",
   "execution_count": 2,
   "id": "6d893558",
   "metadata": {},
   "outputs": [
    {
     "name": "stdout",
     "output_type": "stream",
     "text": [
      "Hi , Awais\n",
      "Hi , Abid\n"
     ]
    }
   ],
   "source": [
    "def greeting(name=\"Awais\"):\n",
    "    print(f'Hi , {name}')\n",
    "    \n",
    "greeting()\n",
    "greeting(\"Abid\")"
   ]
  },
  {
   "cell_type": "markdown",
   "id": "aff674f9",
   "metadata": {},
   "source": [
    "Sum, diff, product"
   ]
  },
  {
   "cell_type": "code",
   "execution_count": 3,
   "id": "5ddf0fcf",
   "metadata": {},
   "outputs": [
    {
     "name": "stdout",
     "output_type": "stream",
     "text": [
      "Sum : 10 , Difference : -2 , Product : 24\n"
     ]
    }
   ],
   "source": [
    "def calculate(a,b):\n",
    "    return a+b,a-b,a*b\n",
    "\n",
    "sum,diff,product=calculate(4,6)\n",
    "print(f'Sum : {sum} , Difference : {diff} , Product : {product}')"
   ]
  },
  {
   "cell_type": "markdown",
   "id": "7f3c1ae6",
   "metadata": {},
   "source": [
    "Sum ,max ,average"
   ]
  },
  {
   "cell_type": "code",
   "execution_count": null,
   "id": "d5e10b37",
   "metadata": {},
   "outputs": [
    {
     "name": "stdout",
     "output_type": "stream",
     "text": [
      "Max num : 13 , Sum : 49 , Average : 7.0\n",
      "13\n"
     ]
    }
   ],
   "source": [
    "def cal(my_list):\n",
    "    sum,average,max_num=0,0,0\n",
    "    for value in my_list:\n",
    "        sum += value\n",
    "        if max_num < value:\n",
    "            max_num = value\n",
    "            \n",
    "    average=sum/len(my_list)\n",
    "    \n",
    "    return sum,average,max_num\n",
    "        \n",
    "my_list=[1,3,5,7,9,11,13]\n",
    "\n",
    "s,avg,m_num=cal(my_list)\n",
    "\n",
    "print(f'Max num : {m_num} , Sum : {s} , Average : {avg}')\n",
    "\n"
   ]
  },
  {
   "cell_type": "markdown",
   "id": "18bb68c0",
   "metadata": {},
   "source": [
    "Vowels and Words"
   ]
  },
  {
   "cell_type": "code",
   "execution_count": 12,
   "id": "a78ea8be",
   "metadata": {},
   "outputs": [
    {
     "name": "stdout",
     "output_type": "stream",
     "text": [
      "Number of Vowels : 21 , Number of words : 11\n"
     ]
    }
   ],
   "source": [
    "def vowel_words(my_string):\n",
    "    vowels=\"aeiouAEIOU\"\n",
    "    count_vowels=words_count=0\n",
    "    for char in my_string:\n",
    "        if char in vowels:\n",
    "            count_vowels +=1\n",
    "    words=my_string.split(' ')\n",
    "    \n",
    "    for word in words:\n",
    "        words_count +=1\n",
    "    \n",
    "    return count_vowels,words_count\n",
    "    \n",
    "sentence=\"The artist painted an elegant image under the old oak tree\"\n",
    "v,w=vowel_words(sentence)\n",
    "print(f'Number of Vowels : {v} , Number of words : {w}')"
   ]
  },
  {
   "cell_type": "markdown",
   "id": "4b50015d",
   "metadata": {},
   "source": [
    "Check Plaindrome"
   ]
  },
  {
   "cell_type": "code",
   "execution_count": 16,
   "id": "32e815ae",
   "metadata": {},
   "outputs": [
    {
     "name": "stdout",
     "output_type": "stream",
     "text": [
      "True\n"
     ]
    }
   ],
   "source": [
    "def palindrome(s):\n",
    "    s = s.lower()\n",
    "    if len(s)<=1:\n",
    "        return True\n",
    "    if s[0]==s[-1]:\n",
    "        return palindrome(s[1:-1])\n",
    "\n",
    "print(palindrome(\"Madam\"))"
   ]
  },
  {
   "cell_type": "markdown",
   "id": "adcc5dba",
   "metadata": {},
   "source": [
    "Dictionary as argument"
   ]
  },
  {
   "cell_type": "code",
   "execution_count": 20,
   "id": "4752a8d3",
   "metadata": {},
   "outputs": [
    {
     "name": "stdout",
     "output_type": "stream",
     "text": [
      "Name -> Awais\n",
      "Depart -> AI\n",
      "City -> Mailsi\n"
     ]
    }
   ],
   "source": [
    "def print_info(**kwsargs):\n",
    "    for key ,info in kwsargs.items():\n",
    "        print(f'{key} -> {info}')\n",
    "        \n",
    "student={\n",
    "    \"Name\":\"Awais\",\n",
    "    \"Depart\":\"AI\",\n",
    "    \"City\":\"Mailsi\"\n",
    "}\n",
    "print_info(**student)"
   ]
  }
 ],
 "metadata": {
  "kernelspec": {
   "display_name": "Python 3",
   "language": "python",
   "name": "python3"
  },
  "language_info": {
   "codemirror_mode": {
    "name": "ipython",
    "version": 3
   },
   "file_extension": ".py",
   "mimetype": "text/x-python",
   "name": "python",
   "nbconvert_exporter": "python",
   "pygments_lexer": "ipython3",
   "version": "3.12.3"
  }
 },
 "nbformat": 4,
 "nbformat_minor": 5
}
